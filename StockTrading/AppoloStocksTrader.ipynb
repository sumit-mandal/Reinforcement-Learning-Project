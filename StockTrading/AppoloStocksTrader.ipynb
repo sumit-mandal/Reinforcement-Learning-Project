{
 "cells": [
  {
   "cell_type": "markdown",
   "id": "a3afc2e7-0f05-43db-8f4a-e5ac4bd435b7",
   "metadata": {},
   "source": [
    "## Importing the dependecies"
   ]
  },
  {
   "cell_type": "code",
   "execution_count": null,
   "id": "fbdb4f43-72bf-434d-8411-c27f35faf3a1",
   "metadata": {},
   "outputs": [],
   "source": [
    "# ! pip install tensorflow-gpu==1.15.0 tensorflow==1.15.0 stable-baselines gym-anytrading gym"
   ]
  },
  {
   "cell_type": "code",
   "execution_count": null,
   "id": "a493a39c-d079-4d5b-bf7a-c5546e0dcfd4",
   "metadata": {},
   "outputs": [],
   "source": [
    "# gym stuff\n",
    "import gym\n",
    "import gym_anytrading\n",
    "\n",
    "#Stable baselines\n",
    "from stable_baselines.common.vec_env import DummyVecEnv #it is a wrapper\n",
    "from stable_baselines import A2C #A2C is RL algorithm\n",
    "\n",
    "#processing libraries\n",
    "import numpy as np\n",
    "import pandas as pd\n",
    "import matplotlib.pyplot as plt"
   ]
  },
  {
   "cell_type": "markdown",
   "id": "99b5c221-5086-4078-be7f-5dad3c50c0de",
   "metadata": {},
   "source": [
    "## MarketWatch GME data"
   ]
  },
  {
   "cell_type": "code",
   "execution_count": null,
   "id": "d2f48d02-80e9-46b1-a77f-bf57074349d3",
   "metadata": {},
   "outputs": [],
   "source": [
    "df = pd.read_csv('data/APOLLOHOSP.NS.csv')"
   ]
  },
  {
   "cell_type": "code",
   "execution_count": null,
   "id": "752d70eb-bcfc-4930-a92c-45fabf503d0c",
   "metadata": {},
   "outputs": [],
   "source": [
    "df.info()"
   ]
  },
  {
   "cell_type": "markdown",
   "id": "51dec9de-d309-491e-b412-3a436946efdb",
   "metadata": {},
   "source": [
    "# Coverting date to datetimeformat"
   ]
  },
  {
   "cell_type": "code",
   "execution_count": null,
   "id": "7b45d28a-d9fb-4b1f-8583-9e0e6d0ffc38",
   "metadata": {},
   "outputs": [],
   "source": [
    "df['Date'] = pd.to_datetime(df['Date'])\n",
    "df.info()"
   ]
  },
  {
   "cell_type": "code",
   "execution_count": null,
   "id": "5d728362-f6f7-430f-b263-f6704ba1b3e7",
   "metadata": {},
   "outputs": [],
   "source": [
    "# df['Open'] = df['Open'].apply(lambda x: float(x.replace(\",\",\"\")))"
   ]
  },
  {
   "cell_type": "code",
   "execution_count": null,
   "id": "236c7914-c943-4566-9216-34ec70d27c39",
   "metadata": {},
   "outputs": [],
   "source": [
    "# df['High'] = df['High'].apply(lambda x: float(x.replace(\",\",\"\")))"
   ]
  },
  {
   "cell_type": "code",
   "execution_count": null,
   "id": "20f5ca0a-41dd-415c-a9e3-1a4f923ec3ca",
   "metadata": {},
   "outputs": [],
   "source": [
    "# df['Low'] = df['Low'].apply(lambda x: float(x.replace(\",\",\"\")))"
   ]
  },
  {
   "cell_type": "code",
   "execution_count": null,
   "id": "bd38c95a-1728-4c96-8cfb-07dd2ddd9896",
   "metadata": {},
   "outputs": [],
   "source": [
    "# df['Close'] = df['Close'].apply(lambda x: float(x.replace(\",\",\"\")))"
   ]
  },
  {
   "cell_type": "code",
   "execution_count": null,
   "id": "795efbbc-4861-4da3-a9f1-3aef7631864f",
   "metadata": {},
   "outputs": [],
   "source": [
    "#Sorting the data from oldest to newest\n",
    "df.sort_values('Date',ascending=True,inplace=True)\n",
    "df.head()"
   ]
  },
  {
   "cell_type": "code",
   "execution_count": null,
   "id": "25d99866-202b-4256-9a98-d9f21dc55b98",
   "metadata": {},
   "outputs": [],
   "source": [
    "# Set index as date\n",
    "df.set_index('Date',inplace=True)\n",
    "df.head()"
   ]
  },
  {
   "cell_type": "code",
   "execution_count": null,
   "id": "beec5c41-2bfb-4a91-a90d-af2f4bfeafca",
   "metadata": {},
   "outputs": [],
   "source": [
    "env = gym.make('stocks-v0',df=df,frame_bound=(5,250),window_size=5)\n",
    "#window_size = how many previous timestep data our bot is going to have for referce to make a trade\n",
    "#frame_bound = specifies how much data we want to pass through our environment we are gonna start at 5th time step \n",
    "#and go all the way to the hundredth time_step . "
   ]
  },
  {
   "cell_type": "markdown",
   "id": "7af40312-0379-4e0c-ab75-f9595c73ea4c",
   "metadata": {},
   "source": [
    "`Note since our window size is 5 and frame_bound's initial value is also 5 our env.prices will start from very first day i.e. 05/25/2021`\n",
    "\n",
    "`And if our frame bound's initial value is changed to (10,100) from (5,100) our env.prices will start from 5 day later i.e. 05/18/2021`"
   ]
  },
  {
   "cell_type": "code",
   "execution_count": null,
   "id": "0d2ab3b3-4b91-47ea-b0f0-b1589fd28fbe",
   "metadata": {},
   "outputs": [],
   "source": [
    "print(\"(env.prices\\n\",env.prices)\n",
    "print(\"env.signal_features\\n\",env.signal_features) #it shows price and change in price from previous timestep\n"
   ]
  },
  {
   "cell_type": "markdown",
   "id": "0b3c4bcf-cdc9-4ff6-9910-d99a90fbe31a",
   "metadata": {},
   "source": [
    "## Build Environment"
   ]
  },
  {
   "cell_type": "code",
   "execution_count": null,
   "id": "f103b2a9-3557-4d8b-a11d-d8724078aa94",
   "metadata": {},
   "outputs": [],
   "source": [
    "#Taking random steps/ Testing the env\n",
    "state = env.reset() #it allows us to get initial state\n",
    "while True:\n",
    "    action = env.action_space.sample() #looping through each index and taking random action\n",
    "    n_state,reward,done,info = env.step(action) #applying action to our environment. and storing them in variables\n",
    "    if done: \n",
    "        print(f\" n_state\\n{n_state}\\n reward\\n{reward}\\n  done\\n{done}\\n  info\\n{info}\\n \")\n",
    "        \n",
    "        break\n",
    "\n",
    "plt.figure(figsize=(15,6))\n",
    "plt.cla()\n",
    "env.render_all()\n",
    "plt.show()"
   ]
  },
  {
   "cell_type": "code",
   "execution_count": null,
   "id": "8fd08b88-635a-4c6a-908f-4e0fa8378830",
   "metadata": {},
   "outputs": [],
   "source": [
    "env.action_space #we have only 2 action buy and sell"
   ]
  },
  {
   "cell_type": "markdown",
   "id": "11c203ee-483a-43af-8806-d67b00f00b09",
   "metadata": {},
   "source": [
    "# 3.1 - Add Custom Indicators"
   ]
  },
  {
   "cell_type": "markdown",
   "id": "183bdc4c-e5ec-4852-b437-56dd98df0334",
   "metadata": {},
   "source": [
    "### 3.1.1 Install and Import New Dependencies\n",
    "\n",
    "##### `We'll  be using finta`"
   ]
  },
  {
   "cell_type": "code",
   "execution_count": null,
   "id": "07066596-473f-4759-b37b-129d6b5ffcd2",
   "metadata": {},
   "outputs": [],
   "source": [
    "# !pip install finta\n",
    "from gym_anytrading.envs import StocksEnv\n",
    "from finta import TA #Technical Analysis lirary\n"
   ]
  },
  {
   "cell_type": "markdown",
   "id": "bbfabf39-b35d-4734-ad00-4b1d4545c284",
   "metadata": {},
   "source": [
    "### 3.1.2 - Fix Volume Column"
   ]
  },
  {
   "cell_type": "code",
   "execution_count": null,
   "id": "48e3db74-8e8e-47ef-bcd3-263bf94e8e6e",
   "metadata": {},
   "outputs": [],
   "source": [
    "# print(df.dtypes)\n",
    "# #inintially volume is object/string changing it to float\n",
    "# df['Volume'] = df['Volume'].apply(lambda x: float(x.replace(\",\",\"\")))\n",
    "\n",
    "# # (x.replace\",\",\"\") stripping/removing all the commas\n"
   ]
  },
  {
   "cell_type": "markdown",
   "id": "6cdcd1ad-8ccd-4171-9d74-b69af2a67f66",
   "metadata": {},
   "source": [
    "### 3.1.3 Calculate SMA,RSI and OBV"
   ]
  },
  {
   "cell_type": "code",
   "execution_count": null,
   "id": "64fdbad1-404e-4d85-97bb-a862af40f36b",
   "metadata": {},
   "outputs": [],
   "source": [
    "df['SMA'] = TA.SMA(df,12) #we want 12 period simple movimg average\n",
    "df['RSI'] = TA.RSI(df) #relative strength index\n",
    "df['OBV'] = TA.OBV(df) #on balance volume inndicator\n",
    "\n",
    "df.fillna(0,inplace=True) #removing NAN with 0"
   ]
  },
  {
   "cell_type": "code",
   "execution_count": null,
   "id": "703622a8-f6d1-41ef-b24c-51fea3032472",
   "metadata": {},
   "outputs": [],
   "source": [
    "df.head(15)"
   ]
  },
  {
   "cell_type": "markdown",
   "id": "f92b907b-9ae5-429a-9f6b-7ce8706226ba",
   "metadata": {},
   "source": [
    "#### 3.1.4 Create New Environment"
   ]
  },
  {
   "cell_type": "code",
   "execution_count": null,
   "id": "af0d0bc6-22ff-4c89-ae46-98887647346b",
   "metadata": {},
   "outputs": [],
   "source": [
    "def add_signals(env):\n",
    "    start = env.frame_bound[0] - env.window_size #here env.frame_bound[0] = 5\n",
    "    end = env.frame_bound[1] # here env.frame_bound[1] = 250\n",
    "    prices = env.df.loc[:,'Low'].to_numpy()[start:end]\n",
    "    signal_features = env.df.loc[:,['Low','Volume','SMA','RSI','OBV']].to_numpy()[start:end] \n",
    "    return prices,signal_features"
   ]
  },
  {
   "cell_type": "code",
   "execution_count": null,
   "id": "d3a83365-8f08-4326-91a4-a5dd3dde6cf7",
   "metadata": {},
   "outputs": [],
   "source": [
    "#Creating custom env\n",
    "class MyCustomEnv(StocksEnv): #inheritence is happening here\n",
    "    _process_data = add_signals\n",
    "    \n",
    "env2 = MyCustomEnv(df=df,window_size=12,frame_bound=(12,50)) #creating instance"
   ]
  },
  {
   "cell_type": "code",
   "execution_count": null,
   "id": "3fb53b2f-1adb-42b5-8b69-0ccdd0b8d70b",
   "metadata": {},
   "outputs": [],
   "source": [
    "env2.prices"
   ]
  },
  {
   "cell_type": "code",
   "execution_count": null,
   "id": "2c398e22-435b-441b-9a60-5a1116c59160",
   "metadata": {},
   "outputs": [],
   "source": [
    "df.head()"
   ]
  },
  {
   "cell_type": "code",
   "execution_count": null,
   "id": "d93cde2b-c600-4c97-b53c-5b8b667e550c",
   "metadata": {},
   "outputs": [],
   "source": [
    "env2.signal_features"
   ]
  },
  {
   "cell_type": "code",
   "execution_count": null,
   "id": "a132f6cb-05f9-41ab-a0af-0e75fda5fb06",
   "metadata": {},
   "outputs": [],
   "source": []
  },
  {
   "cell_type": "markdown",
   "id": "672ceac4-c4a1-4c33-a0f0-69e9032df2a0",
   "metadata": {},
   "source": [
    "## Building Environment and Training"
   ]
  },
  {
   "cell_type": "code",
   "execution_count": null,
   "id": "9d949e63-134f-4bd3-aa06-3b88657d9343",
   "metadata": {},
   "outputs": [],
   "source": [
    "#Wrapping our environment inside of dummyvenEnv\n",
    "env_maker = lambda:env2\n",
    "# env_maker = lambda:gym.make('stocks-v0',df=df, frame_bound=(5,100),window_size=5)\n",
    "\n",
    "env  = DummyVecEnv([env_maker])\n",
    "\n",
    "#we are creatinng env_makr function and putting it inside DummyvecEnv wrapper\n",
    "\n"
   ]
  },
  {
   "cell_type": "code",
   "execution_count": null,
   "id": "f3ad5f80-eecb-4fca-ad00-982f5da499b3",
   "metadata": {},
   "outputs": [],
   "source": [
    "#Start Training\n",
    "model = A2C('MlpLstmPolicy',env,verbose=1) #multilayer-perceptron -lstm policy\n",
    "model.learn(total_timesteps=100000) #starting to learn"
   ]
  },
  {
   "cell_type": "markdown",
   "id": "56d08261-8dcf-4fe7-9b3f-a91f03fb9062",
   "metadata": {},
   "source": [
    "## Testing the model"
   ]
  },
  {
   "cell_type": "code",
   "execution_count": null,
   "id": "a224035e-d35c-41d4-ad2a-97b767b09a69",
   "metadata": {},
   "outputs": [],
   "source": [
    "# env = gym.make('stocks-v0',df=df,frame_bound=(5,2000),window_size=5)\n",
    "env = MyCustomEnv(df=df,window_size=12,frame_bound=(180,250))\n",
    "obs = env.reset()\n",
    "while True:\n",
    "    obs = obs[np.newaxis, ...] #taking observation\n",
    "    #reshaping using np.newaxis to be able to work with nnon-vectorized environment \n",
    "    action,_states = model.predict(obs) #rather than using random action we are using our model and predicting which action it shoudl take\n",
    "    obs,reward,done,info = env.step(action) \n",
    "    if done:\n",
    "        print(\"info\",info)\n",
    "        print(\"action is\",action)\n",
    "        break\n",
    "    "
   ]
  },
  {
   "cell_type": "markdown",
   "id": "63ce19ef-4a36-47f1-90b8-2deaefb2ff3e",
   "metadata": {},
   "source": [
    "# Visualising our model"
   ]
  },
  {
   "cell_type": "code",
   "execution_count": null,
   "id": "a99f1893-ead8-49d2-ba3d-b507ca21ac6a",
   "metadata": {},
   "outputs": [],
   "source": [
    "plt.figure(figsize=(15,6))\n",
    "plt.cla()\n",
    "env.render_all()\n",
    "\n",
    "plt.savefig(\"Appolo\",dpi=100)\n",
    "plt.show()"
   ]
  },
  {
   "cell_type": "code",
   "execution_count": null,
   "id": "5fc17003-1903-4ee2-a84d-684b44f5b9d1",
   "metadata": {},
   "outputs": [],
   "source": []
  },
  {
   "cell_type": "code",
   "execution_count": null,
   "id": "e430d047-b864-4829-9ea4-53b856fae602",
   "metadata": {},
   "outputs": [],
   "source": [
    "! git add \"AppoloStocksTrader.ipynb\"\n",
    "! git commit -m \"Appolo stocks\"\n",
    "! git push origin main"
   ]
  },
  {
   "cell_type": "code",
   "execution_count": null,
   "id": "e3b57be6-d00e-4170-93c3-7dea056d6117",
   "metadata": {},
   "outputs": [],
   "source": []
  }
 ],
 "metadata": {
  "kernelspec": {
   "display_name": "Python [conda env:tf1.5]",
   "language": "python",
   "name": "conda-env-tf1.5-py"
  },
  "language_info": {
   "codemirror_mode": {
    "name": "ipython",
    "version": 3
   },
   "file_extension": ".py",
   "mimetype": "text/x-python",
   "name": "python",
   "nbconvert_exporter": "python",
   "pygments_lexer": "ipython3",
   "version": "3.7.10"
  }
 },
 "nbformat": 4,
 "nbformat_minor": 5
}
